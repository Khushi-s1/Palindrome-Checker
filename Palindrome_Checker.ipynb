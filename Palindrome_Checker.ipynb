{
  "nbformat": 4,
  "nbformat_minor": 0,
  "metadata": {
    "colab": {
      "provenance": []
    },
    "kernelspec": {
      "name": "python3",
      "display_name": "Python 3"
    },
    "language_info": {
      "name": "python"
    }
  },
  "cells": [
    {
      "cell_type": "markdown",
      "source": [
        "Level-1 Task-5 Palindrome Checker\n",
        "\n",
        "Write a Python function that checks whether a given string is a palindrome. A palindrome is a word, phrase, or sequence that reads the\n",
        "same backward as forward (e.g., \"madam\" or \"racecar\")."
      ],
      "metadata": {
        "id": "hxhUbJoUKVzq"
      }
    },
    {
      "cell_type": "code",
      "execution_count": 1,
      "metadata": {
        "id": "h_BBJa81Ie1Z"
      },
      "outputs": [],
      "source": [
        "def is_palindrome(s):\n",
        "   s = s.replace(\" \", \"\").lower()\n",
        "\n",
        "   return s == s[::-1]"
      ]
    },
    {
      "cell_type": "code",
      "source": [
        "print(is_palindrome(\"radar\"))\n",
        "print(is_palindrome(\"A man a plan a canal Panama\"))\n",
        "print(is_palindrome(\"hello\"))\n",
        "print(is_palindrome(\"racecar\"))\n",
        "print(is_palindrome(\"\"))"
      ],
      "metadata": {
        "colab": {
          "base_uri": "https://localhost:8080/"
        },
        "id": "hNFQvRprJh-t",
        "outputId": "dca8ff6d-ebd5-45a8-bf03-1647c765902d"
      },
      "execution_count": 2,
      "outputs": [
        {
          "output_type": "stream",
          "name": "stdout",
          "text": [
            "True\n",
            "True\n",
            "False\n",
            "True\n",
            "True\n"
          ]
        }
      ]
    }
  ]
}